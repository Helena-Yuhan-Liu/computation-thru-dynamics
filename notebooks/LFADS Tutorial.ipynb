{
 "cells": [
  {
   "cell_type": "markdown",
   "metadata": {},
   "source": [
    "### Run the LFADS algorithm on an RNN that integrates white noise.\n"
   ]
  },
  {
   "cell_type": "markdown",
   "metadata": {},
   "source": [
    "Copyright 2019 Google LLC\n",
    "\n",
    "Licensed under the Apache License, Version 2.0 (the \"License\");\n",
    "you may not use this file except in compliance with the License.\n",
    "You may obtain a copy of the License at\n",
    "\n",
    "     https://www.apache.org/licenses/LICENSE-2.0\n",
    "\n",
    "Unless required by applicable law or agreed to in writing, software\n",
    "distributed under the License is distributed on an \"AS IS\" BASIS,\n",
    "WITHOUT WARRANTIES OR CONDITIONS OF ANY KIND, either express or implied.\n",
    "See the License for the specific language governing permissions and\n",
    "limitations under the License."
   ]
  },
  {
   "cell_type": "code",
   "execution_count": null,
   "metadata": {},
   "outputs": [],
   "source": [
    "# Numpy, JAX, Matplotlib and h5py should all be correctly installed and on the python path.\n",
    "from __future__ import print_function, division, absolute_import\n",
    "\n",
    "import datetime\n",
    "import h5py\n",
    "import jax.numpy as np\n",
    "from jax import random\n",
    "from jax.experimental import optimizers\n",
    "from jax.config import config\n",
    "#config.update(\"jax_debug_nans\", True) # Useful for finding numerical errors\n",
    "import matplotlib.pyplot as plt\n",
    "import numpy as onp  # original CPU-backed NumPy\n",
    "import os\n",
    "import sys\n",
    "import time"
   ]
  },
  {
   "cell_type": "code",
   "execution_count": null,
   "metadata": {},
   "outputs": [],
   "source": [
    "# Import the tutorial code.\n",
    "\n",
    "# You must change this to the location of computation-thru-dynamics directory.\n",
    "HOME_DIR = '/home/sussillo/' \n",
    "\n",
    "sys.path.append(os.path.join(HOME_DIR,'computation-thru-dynamics'))\n",
    "import lfads_tutorial.lfads as lfads\n",
    "import lfads_tutorial.plotting as plotting\n",
    "import lfads_tutorial.utils as utils\n",
    "from lfads_tutorial.optimize import optimize_lfads, get_kl_warmup_fun"
   ]
  },
  {
   "cell_type": "markdown",
   "metadata": {},
   "source": [
    "### Preliminaries - notes on using JAX\n",
    "\n",
    "When using JAX for auto diff, auto batching or compiling, you should always have a two-level mental model in your mind: \n",
    "1. At the CPU level, like normal\n",
    "2. at the device level, for example a GPU. \n",
    "\n",
    "Since JAX compiles your code to device, it is very efficient but creates this split.  Thus, for example, we have two NumPY modules kicking around: 'onp' for 'original numpy', which is on the CPU, and np, which is the JAX modified version and runs 'on device'.  This latter version of numpy is enabled to compute gradients and run your code quickly.\n",
    "\n",
    "So the model then is: initialize variables, seeds, etc, at the CPU level, and *dispatch* a JAX based computation to the device. This all happens naturally whenever you call JAX enabled functions.\n",
    "\n",
    "Thus one of the first things we do initialize the onp random number generator."
   ]
  },
  {
   "cell_type": "code",
   "execution_count": null,
   "metadata": {},
   "outputs": [],
   "source": [
    "onp_rng = onp.random.RandomState(seed=None) # For CPU-based numpy randomness"
   ]
  },
  {
   "cell_type": "markdown",
   "metadata": {},
   "source": [
    "### Load the data\n",
    "\n",
    "You __must__ run through the the integrator RNN [tutorial notebook](https://github.com/google-research/computation-thru-dynamics/blob/master/notebooks/Integrator%20RNN%20Tutorial.ipynb) on your machine.\n",
    "\n",
    "Point to the correct __data__  file for the integrator RNN. Note that the integrator rnn tutorial notebook creates two files, both the parameters file and the data file with examples."
   ]
  },
  {
   "cell_type": "code",
   "execution_count": null,
   "metadata": {},
   "outputs": [],
   "source": [
    "INTEGRATOR_RNN_DATA_FILE = \\\n",
    "    '/tmp/vrnn/pure_int/trained_data_vrnn_pure_int_0.00003_2019-03-23_21:46:32.h5'\n",
    "\n",
    "lfads_dir = '/tmp/lfads/'       # where to save lfads data and parameters to\n",
    "rnn_type = 'lfads'\n",
    "task_type = 'integrator'"
   ]
  },
  {
   "cell_type": "code",
   "execution_count": null,
   "metadata": {},
   "outputs": [],
   "source": [
    "# Make directories\n",
    "data_dir = os.path.join(lfads_dir, 'data/')\n",
    "output_dir = os.path.join(lfads_dir, 'output/')\n",
    "figure_dir = os.path.join(lfads_dir, os.path.join(output_dir, 'figures/'))\n",
    "if not os.path.exists(output_dir):\n",
    "    os.makedirs(output_dir)\n",
    "if not os.path.exists(figure_dir):\n",
    "    os.makedirs(figure_dir)\n",
    "\n",
    "# Load synthetic data\n",
    "data_dict = utils.read_file(INTEGRATOR_RNN_DATA_FILE)"
   ]
  },
  {
   "cell_type": "code",
   "execution_count": null,
   "metadata": {},
   "outputs": [],
   "source": [
    "# Plot examples and statistics about the data.\n",
    "f = plotting.plot_data_pca(data_dict)"
   ]
  },
  {
   "cell_type": "code",
   "execution_count": null,
   "metadata": {
    "scrolled": false
   },
   "outputs": [],
   "source": [
    "f = plotting.plot_data_example(data_dict['inputs'], \n",
    "                               data_dict['hiddens'],\n",
    "                               data_dict['outputs'], \n",
    "                               data_dict['targets'])"
   ]
  },
  {
   "cell_type": "markdown",
   "metadata": {},
   "source": [
    "### Spikify the synthetic data\n",
    "The output of the integrator rnn is the continuous inputs,\n",
    "hidden states and outputs of the example.  LFADS is a tool \n",
    "to infer underlying factors in spiking neural data, so we \n",
    "are going to \"spikify\" the integrator rnn example hidden states."
   ]
  },
  {
   "cell_type": "code",
   "execution_count": null,
   "metadata": {},
   "outputs": [],
   "source": [
    "# Data was generated w/ VRNN w/ tanh, thus (data+1) / 2 -> [0,1]\n",
    "# We put those activations between 0 and 1 here.\n",
    "\n",
    "data_dt = 1.0/25.0        # define our dt in a physiological range\n",
    "# If data is normed between 0 and 1, then a 1 yields this many \n",
    "# spikes per second. Pushing this downwards makes the problem harder.\n",
    "max_firing_rate = 40      \n",
    "train_fraction = 0.9      # Train with 90% of the synthetic data\n",
    "\n",
    "renormed_fun = lambda x : (x + 1) / 2.0\n",
    "\n",
    "renormed_data = renormed_fun(data_dict['hiddens'])\n",
    "# When dimensions are relevant, I use a variable naming scheme like\n",
    "# name_dim1xdim2x...  so below, here is the synthetic data with \n",
    "# 3 dimensions of batch, time and unit, in that order.\n",
    "data_bxtxn = utils.spikify_data(renormed_data, onp_rng, data_dt,\n",
    "                                max_firing_rate=max_firing_rate)\n",
    "train_data, eval_data = utils.split_data(data_bxtxn,\n",
    "                                         train_fraction=train_fraction)\n",
    "eval_data_offset = int(train_fraction * data_bxtxn.shape[0])"
   ]
  },
  {
   "cell_type": "code",
   "execution_count": null,
   "metadata": {},
   "outputs": [],
   "source": [
    "f = plotting.plot_data_stats(data_dict, data_bxtxn, data_dt)"
   ]
  },
  {
   "cell_type": "markdown",
   "metadata": {},
   "source": [
    "## LFADS - Latent Factor Analysis via Dynamical Systems\n",
    "\n",
    "\n",
    "[Link to paper readcube version of the LFADS Nature Methods 2018 paper](https://rdcu.be/6Wji)\n",
    "\n"
   ]
  },
  {
   "cell_type": "markdown",
   "metadata": {},
   "source": [
    "### LFADS architecture with inferred inputs\n",
    "\n",
    "There are 3 variants of the LFADS architecture in the paper\n",
    "1. autonomous LFADS model (no inferred inputs), Fig. 1a\n",
    "2. stitched LFADS model for data recorded in different sessions, Fig. 4a\n",
    "3. non-autonomous LFADS model (with inferred inputs), Fig. 5a\n",
    "\n",
    "In this tutorial we deal with the non-autonomous model, which I believe is conceptually the most interesting, but also the most challenging to understand.  This tutorial (and the current code), does **NOT** handle stiched data.  Stitching data isn't conceptually hard, but it's a pain in the code.  The Tensorflow version of the code handles that, if you need it. \n",
    "\n",
    "Here is the non-autonoumous LFADS model architecture: The full description of this model is given in the paper but briefly, the idea is that the data LFADS will 'denoise' or model data generated from a nonlinear, autonoumous system (we call data generator) that receives an input through time. It will try to break this up in to the dynamical system portion, and the input portion, thus the term *inferred inputs*.  We are trying to infer what inputs would drive a high-d nonlinear system to generate the data you've recorded. One final detail is that the model assumes that the spikes are poisson generated from an underlying continuous dynamical system.\n",
    "\n",
    "So architecture inferes a number of quantities of interest: \n",
    "1. initial state to generator (also called initial conditions)\n",
    "2. inferred inputs to generator\n",
    "3. dynamical factors\n",
    "4. rates - a readout from the factors\n",
    "\n",
    "The rates are really the most intuitive part, which are analogous to filtering your spiking data. \n",
    "\n",
    "![](https://raw.githubusercontent.com/google-research/computation-thru-dynamics/master/images/lfads_architecture_w_inferred_inputs_3.png)\n",
    "\n",
    "\n",
    "To begin, let's focus on the *autonomous* version of the architecture, which *excludes the controller RNN*.  The data is put through nonlinear, recurrent **encoders**, and this produces an **initial state distribtion**, which is a per-trial mean and variance to produce random vectors to encode that trial. The initial state is a randomly drawn vector from this distribution and is fed to the **generator**, which marches through time and at each time point produces **factors** and **rates**, which generates your data.  So in the automous version of LFADS, the *bottleneck* between the data is the inital state of the generator, a potentially very low-bandwidth bottleneck, as a single vector has to encode a high-d time series.\n",
    "\n",
    "Such a system would be adequate for capturing systems that are (in approximation) autonomous.  For example, motor cortex dynamics during center-out reaches seem extremely well approximated by autonomous dynamics at the sub-second time scale (e.g. Fig 2). \n",
    "\n",
    "However, if you were to perturb the reach by messing with the cursor the animal was using, e.g perturbing cursor location mid-reach, then the dynamics couldn't possibly be autonomous.  In other words, some additional input must come into the motor cortex and update the system with the information that the cursor had jumped unexpectedly.  This is the experimental setting we setup in Fig. 5.\n",
    "\n",
    "To compensate for such a scenario, we added a **controller** and **inferred inputs** to the generator portion of LFADS.  In particular, the controller runs in sync with the generator and receives the output of the generator from the last time step.  Thus it it knows what the generator output.  During training, the system can learn that there are patterns in the data that cannot be created by the generator autonomously, so learns to compensate by emitting information from the data, through the encoders, through the controller to the generator.  We call this information an inferred input. In our experimental setup, this worked well.  In inferred inputs learned the presence, timing, and type of perturbation.\n",
    "\n",
    "Please note that the inferred input system is extremely powerful and one has to make sure that the system  does not pathologically leak all the information from the data trial through LFADS to generate the data trial.  In other words, LFADS, like all auto-encoders, is at risk of creating a trivial identity function, $x = f(x)$, rather than finding stucture in the data. Thus, we utilize many tricks to avoid this (dropout, KL penalties, and even blocking out information given to the controller from time step t, when decoding time step t.)"
   ]
  },
  {
   "cell_type": "markdown",
   "metadata": {},
   "source": [
    "### Hyperparameters"
   ]
  },
  {
   "cell_type": "code",
   "execution_count": null,
   "metadata": {},
   "outputs": [],
   "source": [
    "# LFADS Hyper parameters\n",
    "do_plot = True # Set to False if you are not set up to plot, usually Tcl errors\n",
    "\n",
    "data_dim = train_data.shape[2]  # input to lfads should have dimensions:\n",
    "ntimesteps = train_data.shape[1] #   (batch_size x ntimesteps x data_dim)\n",
    "batch_size = 128      # batch size during optimization\n",
    "\n",
    "# LFADS architecture\n",
    "enc_dim = 64          # encoder dim\n",
    "con_dim = 64          # contoller dim\n",
    "ii_dim = 1            # inferred input dim\n",
    "gen_dim = 75          # generator dim\n",
    "factors_dim = 20      # factors dim\n",
    "\n",
    "# Numerical stability\n",
    "var_min = 0.001 # Minimal variance any gaussian can become.\n",
    "\n",
    "# Optimization HPs that percolates into model\n",
    "l2reg = 0.00002      # amount of l2 on weights"
   ]
  },
  {
   "cell_type": "markdown",
   "metadata": {},
   "source": [
    "### Hyperparameters for Priors\n",
    "\n",
    "As was mentioned above, LFADS is an auto-encoder and auto-encoders typically encode data through some kind of information bottleneck.  The idea is a lot like PCA, if one gets rid unimportant variation, then perhaps meaningful and interesting structure in the data will become apparent.  \n",
    "\n",
    "More precisely, LFADS is a variational auto-encoder (VAE), which means that the bottleneck is achieved via probabilistic methods.  Namely, each trial intial state is encoded in a per-trial Gaussian distribution called the 'posterior', e.g. initial state parameter's mean and varaince are given by $(\\mu(\\mathbf{x}), \\sigma^2(\\mathbf{x}))$, where $\\mathbf{x}$ is the data.  This then is compared to an *uninformative prior* $(\\mu_p, \\sigma^2_p)$, which is independent of the trial. A type of distance for distributions is used, called the KL-divergence, to force the initial state Gaussian distribution for each trial to be as close to as possible to a Gaussian that doesn't depend on the trial. This is a part of the **ELBO** - Evidence lower bound - that is used to train VAEs."
   ]
  },
  {
   "cell_type": "code",
   "execution_count": null,
   "metadata": {},
   "outputs": [],
   "source": [
    "# Initial state prior parameters\n",
    "# the mean is set to zero in the code\n",
    "ic_prior_var = 0.1 # this is $\\sigma^2_p$ in above paragraph"
   ]
  },
  {
   "cell_type": "markdown",
   "metadata": {},
   "source": [
    "### Hyper parameters for inferred inputs\n",
    "\n",
    "The inferred inputs are also codes represented by posterior distributions, but now *each time point* is a Gaussian, so each inferred input time series is really a Gaussian process, called [autoregressive-1](https://en.wikipedia.org/wiki/Autoregressive_model#Example:_An_AR(1)_process) or AR-1 for short. \n",
    "\n",
    "$s_t = c + \\phi s_{t-1} + \\epsilon_t, \\mbox{ with } \\epsilon_t \\in N(0, \\sigma^2_n) $\n",
    "\n",
    "with c the process mean, $\\phi$ giving dependence of process state at time $t-1$ to process state at time $t$ and $\\epsilon_t$ is the noise with variance $\\sigma^2_n$.\n",
    "\n",
    "So if you have 4 inferred inputs, then you have 4 AR-1 processes. Each AR-1 process is a posterior distribution *over sequences* and this allows us to introduce another useful concept, the auto-correlation of each sequence. The auto-correlation is the correlation between values in the process at different time points.  We are interested in auto-correlation because we may want to penalize very jagged or very smooth inferred inputs on a task by task case, as well as for other technical reasons.\n",
    "\n",
    "So just like the initial states, which introduced multi-variate gaussian distributions (the posteriors) for each data trial and an uninformative prior to which the per-trial posteriors are compared, we do the same thing with inferred inputs, now using the KL-divergence to compare the distribution of of auto-regressive sequences to uninformative auto-regressive prior for sequences. In this way, we aim to limit how informative the inferred inputs are by introducing a bottleneck between the encoder and the generator."
   ]
  },
  {
   "cell_type": "code",
   "execution_count": null,
   "metadata": {},
   "outputs": [],
   "source": [
    "# Inferred input autoregressive prior parameters\n",
    "ar_mean = 0.0                 # process mean\n",
    "ar_autocorrelation_tau = 1.0  # seconds, how correlated each time point is, related to $\\phi$ above.\n",
    "ar_noise_variance = 0.1       # noise variance"
   ]
  },
  {
   "cell_type": "code",
   "execution_count": null,
   "metadata": {},
   "outputs": [],
   "source": [
    "lfads_hps = {'data_dim' : data_dim, 'ntimesteps' : ntimesteps,\n",
    "             'enc_dim' : enc_dim, 'con_dim' : con_dim, 'var_min' : var_min,\n",
    "             'ic_prior_var' : ic_prior_var, 'ar_mean' : ar_mean,\n",
    "             'ar_autocorrelation_tau' : ar_autocorrelation_tau,\n",
    "             'ar_noise_variance' : ar_noise_variance,\n",
    "             'ii_dim' : ii_dim, 'gen_dim' : gen_dim,\n",
    "             'factors_dim' : factors_dim,\n",
    "             'l2reg' : l2reg,\n",
    "             'batch_size' : batch_size}"
   ]
  },
  {
   "cell_type": "code",
   "execution_count": null,
   "metadata": {},
   "outputs": [],
   "source": [
    "# LFADS Optimization hyperparameters\n",
    "num_batches = 8000              # how many batches do we train\n",
    "print_every = 50                # give information every so often\n",
    "step_size = 0.05               # initial learning rate\n",
    "decay_factor = 0.99975            # learning rate decay param\n",
    "decay_steps = 1                 # learning rate decay param\n",
    "keep_rate = 0.98                # dropout keep rate during training\n",
    "max_grad_norm = 10.0            # gradient clipping above this value\n",
    "l2reg = 0.00002      # amount of l2 on weights (in lfads_hps)"
   ]
  },
  {
   "cell_type": "markdown",
   "metadata": {},
   "source": [
    "### Warming up the KL penalties \n",
    "The optimization of a VAE optimizes the ELBO, which is\n",
    "\n",
    "$L(\\theta) = -\\mathop{\\mathbb{E}}_x \\left(\\log p_\\theta(x|z) + KL(q_\\theta(z|x) \\;\\;|| \\;\\;p(z))\\right)$\n",
    "\n",
    "* $p_\\theta(x|z)$ - the reconstruction given the initial state and inferred inputs codes (collectively denoted $z$  here)\n",
    "\n",
    "* $q_\\theta(z|x)$ - represents the latent variable posterior distributions (the data encoders that ultimately yield the intial state and inferred input codes).\n",
    "\n",
    "* $p(z)$ - the prior that does not know about the data\n",
    "\n",
    "where $\\theta$ are all the parameters. This is an expectation over all your data, $x$, of the quality of the generation $p_\\theta(x|z)$ plus the KL diverengence penality mentioned above that compares the distributions for the initial state and inferred inputs.\n",
    "\n",
    "It turns out that the KL term can be a lot easier to optimize initially than learning how to reconstruct your data. This results in a pathological stoppage of training where the KL goes to nearly zero and training is broken there on out (as you cannot respresent any data from uninformative priors).  One way out of this is to warmup the KL penality, starting it off with a weight term of 0 and then slowly building to 1, giving the reconstruction a chance to train a bit without the KL penalty messing things up."
   ]
  },
  {
   "cell_type": "code",
   "execution_count": null,
   "metadata": {},
   "outputs": [],
   "source": [
    "kl_warmup_start = 500.0 # batch number to start kl warmup, explicitly float\n",
    "kl_warmup_end = 1000.0  # batch number to be finished with kl warmup, explicitly float\n",
    "kl_min = 0.01 # The minimmum KL value, non-zero to make sure KL doesn't grow crazy before kicking in."
   ]
  },
  {
   "cell_type": "markdown",
   "metadata": {},
   "source": [
    "Note, there is currently a HUGE amount of debate about what the correct parameter value here is for the KL penalty. kl_max = 1 is what creates a lower bound on the (marginal) log likelihood of the data, but folks argue it could be higher or lower than 1. Myself, I have never played around with this HP, but I have the idea that LFADS may benefit from < 1 values, as LFADS is not really being used for generation.\n",
    "\n",
    "See [$\\beta$-VAE: LEARNING BASIC VISUAL CONCEPTS WITH A\n",
    "CONSTRAINED VARIATIONAL FRAMEWORK](https://openreview.net/pdf?id=Sy2fzU9gl)\n",
    "\n",
    "See [Fixing a Broken ELBO](https://arxiv.org/pdf/1711.00464.pdf) as to why you might choose a particular kl maximum value.  I found this article pretty clarifying."
   ]
  },
  {
   "cell_type": "code",
   "execution_count": null,
   "metadata": {},
   "outputs": [],
   "source": [
    "kl_max = 1.0"
   ]
  },
  {
   "cell_type": "code",
   "execution_count": null,
   "metadata": {},
   "outputs": [],
   "source": [
    "lfads_opt_hps = {'num_batches' : num_batches, 'step_size' : step_size,\n",
    "                 'decay_steps' : decay_steps, 'decay_factor' : decay_factor,\n",
    "                 'kl_min' : kl_min, 'kl_max' : kl_max, 'kl_warmup_start' : kl_warmup_start,\n",
    "                 'kl_warmup_end' : kl_warmup_end, 'keep_rate' : keep_rate,\n",
    "                 'max_grad_norm' : max_grad_norm, 'print_every' : print_every,\n",
    "                 'adam_b1' : 0.9, 'adam_b2' : 0.999, 'adam_eps' : 1e-1}\n",
    "\n",
    "assert num_batches >= print_every and num_batches % print_every == 0"
   ]
  },
  {
   "cell_type": "code",
   "execution_count": null,
   "metadata": {},
   "outputs": [],
   "source": [
    "# Plot the warmup function and the learning rate decay function.\n",
    "plt.figure(figsize=(16,4))\n",
    "plt.subplot(121)\n",
    "kl_warmup_fun = get_kl_warmup_fun(lfads_opt_hps)\n",
    "plt.plot([kl_warmup_fun(i) for i in range(lfads_opt_hps['num_batches'])]);\n",
    "plt.title('KL warmup function')\n",
    "plt.xlabel('Training batch');\n",
    "\n",
    "plt.subplot(122)\n",
    "decay_fun = optimizers.exponential_decay(lfads_opt_hps['step_size'],                                                             \n",
    "                                         lfads_opt_hps['decay_steps'],                                                           \n",
    "                                         lfads_opt_hps['decay_factor'])                                                          \n",
    "plt.plot([decay_fun(i) for i in range(lfads_opt_hps['num_batches'])]);\n",
    "plt.title('learning rate decay function')\n",
    "plt.xlabel('Training batch');                                                                                     "
   ]
  },
  {
   "cell_type": "markdown",
   "metadata": {},
   "source": [
    "### Train the LFADS model\n",
    "\n",
    "Note that JAX uses it's own setup to handle randomness and seeding the pseudo-random number generators.  You can read about it [here](https://github.com/google/jax/blob/master/README.md#random-numbers-are-different). If you want to modify the LFADS tutorial you *NEED* to understand this. Otherwise, not so big a deal if you are just messing around with LFADS hyperparameters or applying the tutorial to new data."
   ]
  },
  {
   "cell_type": "code",
   "execution_count": null,
   "metadata": {},
   "outputs": [],
   "source": [
    "# Initialize parameters for LFADS\n",
    "key = random.PRNGKey(onp.random.randint(0, utils.MAX_SEED_INT))\n",
    "init_params = lfads.lfads_params(key, lfads_hps)"
   ]
  },
  {
   "cell_type": "code",
   "execution_count": 20,
   "metadata": {},
   "outputs": [
    {
     "name": "stdout",
     "output_type": "stream",
     "text": [
      "Batches 1-50 in 204.35 sec, Step size: 0.04938, Training loss 2443, Eval loss 2445\n",
      "Batches 51-100 in 3.31 sec, Step size: 0.04877, Training loss 2432, Eval loss 2430\n",
      "Batches 101-150 in 3.06 sec, Step size: 0.04816, Training loss 2435, Eval loss 2437\n",
      "Batches 151-200 in 3.01 sec, Step size: 0.04756, Training loss 2438, Eval loss 2439\n",
      "Batches 201-250 in 3.01 sec, Step size: 0.04697, Training loss 2438, Eval loss 2437\n",
      "Batches 251-300 in 3.02 sec, Step size: 0.04639, Training loss 2443, Eval loss 2446\n",
      "Batches 301-350 in 3.02 sec, Step size: 0.04581, Training loss 2448, Eval loss 2450\n",
      "Batches 351-400 in 3.27 sec, Step size: 0.04524, Training loss 2445, Eval loss 2444\n",
      "Batches 401-450 in 3.29 sec, Step size: 0.04468, Training loss 2444, Eval loss 2446\n",
      "Batches 451-500 in 3.32 sec, Step size: 0.04412, Training loss 2455, Eval loss 2454\n",
      "Batches 501-550 in 3.35 sec, Step size: 0.04358, Training loss 2450, Eval loss 2453\n",
      "Batches 551-600 in 3.32 sec, Step size: 0.04303, Training loss 2457, Eval loss 2454\n",
      "Batches 601-650 in 3.36 sec, Step size: 0.04250, Training loss 2459, Eval loss 2458\n",
      "Batches 651-700 in 3.26 sec, Step size: 0.04197, Training loss 2459, Eval loss 2453\n",
      "Batches 701-750 in 3.24 sec, Step size: 0.04145, Training loss 2456, Eval loss 2456\n",
      "Batches 751-800 in 3.29 sec, Step size: 0.04094, Training loss 2457, Eval loss 2459\n",
      "Batches 801-850 in 3.31 sec, Step size: 0.04043, Training loss 2458, Eval loss 2458\n",
      "Batches 851-900 in 3.34 sec, Step size: 0.03992, Training loss 2460, Eval loss 2459\n",
      "Batches 901-950 in 3.31 sec, Step size: 0.03943, Training loss 2460, Eval loss 2459\n",
      "Batches 951-1000 in 3.27 sec, Step size: 0.03894, Training loss 2459, Eval loss 2459\n",
      "Batches 1001-1050 in 3.31 sec, Step size: 0.03846, Training loss 2457, Eval loss 2459\n",
      "Batches 1051-1100 in 3.28 sec, Step size: 0.03798, Training loss 2459, Eval loss 2457\n",
      "Batches 1101-1150 in 3.29 sec, Step size: 0.03751, Training loss 2458, Eval loss 2457\n",
      "Batches 1151-1200 in 3.56 sec, Step size: 0.03704, Training loss 2458, Eval loss 2458\n",
      "Batches 1201-1250 in 3.23 sec, Step size: 0.03658, Training loss 2456, Eval loss 2455\n",
      "Batches 1251-1300 in 3.25 sec, Step size: 0.03612, Training loss 2456, Eval loss 2456\n",
      "Batches 1301-1350 in 3.27 sec, Step size: 0.03568, Training loss 2455, Eval loss 2456\n",
      "Batches 1351-1400 in 3.26 sec, Step size: 0.03523, Training loss 2456, Eval loss 2454\n",
      "Batches 1401-1450 in 3.34 sec, Step size: 0.03480, Training loss 2455, Eval loss 2456\n",
      "Batches 1451-1500 in 3.25 sec, Step size: 0.03436, Training loss 2455, Eval loss 2454\n",
      "Batches 1501-1550 in 3.32 sec, Step size: 0.03394, Training loss 2451, Eval loss 2453\n",
      "Batches 1551-1600 in 3.27 sec, Step size: 0.03351, Training loss 2456, Eval loss 2455\n",
      "Batches 1601-1650 in 3.27 sec, Step size: 0.03310, Training loss 2453, Eval loss 2453\n",
      "Batches 1651-1700 in 3.26 sec, Step size: 0.03269, Training loss 2455, Eval loss 2451\n",
      "Batches 1701-1750 in 3.30 sec, Step size: 0.03228, Training loss 2451, Eval loss 2454\n",
      "Batches 1751-1800 in 3.29 sec, Step size: 0.03188, Training loss 2451, Eval loss 2453\n",
      "Batches 1801-1850 in 3.34 sec, Step size: 0.03148, Training loss 2456, Eval loss 2451\n",
      "Batches 1851-1900 in 3.32 sec, Step size: 0.03109, Training loss 2455, Eval loss 2456\n",
      "Batches 1901-1950 in 3.33 sec, Step size: 0.03071, Training loss 2453, Eval loss 2451\n",
      "Batches 1951-2000 in 3.32 sec, Step size: 0.03032, Training loss 2453, Eval loss 2452\n",
      "Batches 2001-2050 in 3.30 sec, Step size: 0.02995, Training loss 2453, Eval loss 2450\n",
      "Batches 2051-2100 in 3.34 sec, Step size: 0.02958, Training loss 2454, Eval loss 2455\n",
      "Batches 2101-2150 in 3.24 sec, Step size: 0.02921, Training loss 2453, Eval loss 2456\n",
      "Batches 2151-2200 in 3.31 sec, Step size: 0.02885, Training loss 2455, Eval loss 2452\n",
      "Batches 2201-2250 in 3.32 sec, Step size: 0.02849, Training loss 2453, Eval loss 2452\n",
      "Batches 2251-2300 in 3.30 sec, Step size: 0.02813, Training loss 2455, Eval loss 2454\n",
      "Batches 2301-2350 in 3.29 sec, Step size: 0.02778, Training loss 2452, Eval loss 2452\n",
      "Batches 2351-2400 in 3.32 sec, Step size: 0.02744, Training loss 2454, Eval loss 2452\n",
      "Batches 2401-2450 in 3.27 sec, Step size: 0.02710, Training loss 2453, Eval loss 2453\n",
      "Batches 2451-2500 in 3.33 sec, Step size: 0.02676, Training loss 2451, Eval loss 2452\n",
      "Batches 2501-2550 in 3.33 sec, Step size: 0.02643, Training loss 2453, Eval loss 2452\n",
      "Batches 2551-2600 in 3.31 sec, Step size: 0.02610, Training loss 2452, Eval loss 2451\n",
      "Batches 2601-2650 in 3.28 sec, Step size: 0.02578, Training loss 2454, Eval loss 2451\n",
      "Batches 2651-2700 in 3.31 sec, Step size: 0.02546, Training loss 2452, Eval loss 2453\n",
      "Batches 2701-2750 in 3.34 sec, Step size: 0.02514, Training loss 2453, Eval loss 2450\n",
      "Batches 2751-2800 in 3.27 sec, Step size: 0.02483, Training loss 2452, Eval loss 2451\n",
      "Batches 2801-2850 in 3.32 sec, Step size: 0.02452, Training loss 2449, Eval loss 2451\n",
      "Batches 2851-2900 in 3.29 sec, Step size: 0.02421, Training loss 2451, Eval loss 2451\n",
      "Batches 2901-2950 in 3.25 sec, Step size: 0.02391, Training loss 2451, Eval loss 2452\n",
      "Batches 2951-3000 in 3.33 sec, Step size: 0.02362, Training loss 2451, Eval loss 2451\n",
      "Batches 3001-3050 in 3.27 sec, Step size: 0.02332, Training loss 2452, Eval loss 2452\n",
      "Batches 3051-3100 in 3.29 sec, Step size: 0.02303, Training loss 2450, Eval loss 2452\n",
      "Batches 3101-3150 in 3.31 sec, Step size: 0.02275, Training loss 2453, Eval loss 2452\n",
      "Batches 3151-3200 in 3.29 sec, Step size: 0.02246, Training loss 2450, Eval loss 2450\n",
      "Batches 3201-3250 in 3.26 sec, Step size: 0.02219, Training loss 2452, Eval loss 2452\n",
      "Batches 3251-3300 in 3.26 sec, Step size: 0.02191, Training loss 2452, Eval loss 2451\n",
      "Batches 3301-3350 in 3.28 sec, Step size: 0.02164, Training loss 2451, Eval loss 2450\n",
      "Batches 3351-3400 in 3.28 sec, Step size: 0.02137, Training loss 2451, Eval loss 2451\n",
      "Batches 3401-3450 in 3.27 sec, Step size: 0.02110, Training loss 2450, Eval loss 2449\n",
      "Batches 3451-3500 in 3.24 sec, Step size: 0.02084, Training loss 2452, Eval loss 2451\n",
      "Batches 3501-3550 in 3.33 sec, Step size: 0.02058, Training loss 2452, Eval loss 2452\n",
      "Batches 3551-3600 in 3.25 sec, Step size: 0.02033, Training loss 2452, Eval loss 2448\n",
      "Batches 3601-3650 in 3.27 sec, Step size: 0.02007, Training loss 2452, Eval loss 2448\n",
      "Batches 3651-3700 in 3.24 sec, Step size: 0.01982, Training loss 2451, Eval loss 2449\n",
      "Batches 3701-3750 in 3.33 sec, Step size: 0.01958, Training loss 2450, Eval loss 2450\n",
      "Batches 3751-3800 in 3.33 sec, Step size: 0.01933, Training loss 2450, Eval loss 2450\n",
      "Batches 3801-3850 in 3.28 sec, Step size: 0.01909, Training loss 2449, Eval loss 2450\n",
      "Batches 3851-3900 in 3.25 sec, Step size: 0.01886, Training loss 2450, Eval loss 2450\n",
      "Batches 3901-3950 in 3.24 sec, Step size: 0.01862, Training loss 2451, Eval loss 2451\n",
      "Batches 3951-4000 in 3.26 sec, Step size: 0.01839, Training loss 2451, Eval loss 2448\n",
      "Batches 4001-4050 in 3.30 sec, Step size: 0.01816, Training loss 2449, Eval loss 2449\n",
      "Batches 4051-4100 in 3.29 sec, Step size: 0.01794, Training loss 2452, Eval loss 2448\n",
      "Batches 4101-4150 in 3.23 sec, Step size: 0.01771, Training loss 2452, Eval loss 2451\n",
      "Batches 4151-4200 in 3.27 sec, Step size: 0.01749, Training loss 2451, Eval loss 2451\n",
      "Batches 4201-4250 in 3.33 sec, Step size: 0.01728, Training loss 2448, Eval loss 2447\n",
      "Batches 4251-4300 in 3.24 sec, Step size: 0.01706, Training loss 2453, Eval loss 2450\n",
      "Batches 4301-4350 in 3.30 sec, Step size: 0.01685, Training loss 2450, Eval loss 2450\n",
      "Batches 4351-4400 in 3.23 sec, Step size: 0.01664, Training loss 2450, Eval loss 2449\n",
      "Batches 4401-4450 in 3.26 sec, Step size: 0.01643, Training loss 2449, Eval loss 2449\n",
      "Batches 4451-4500 in 3.28 sec, Step size: 0.01623, Training loss 2450, Eval loss 2450\n",
      "Batches 4501-4550 in 3.24 sec, Step size: 0.01603, Training loss 2451, Eval loss 2451\n",
      "Batches 4551-4600 in 3.29 sec, Step size: 0.01583, Training loss 2452, Eval loss 2449\n",
      "Batches 4601-4650 in 3.32 sec, Step size: 0.01563, Training loss 2449, Eval loss 2450\n",
      "Batches 4651-4700 in 3.22 sec, Step size: 0.01544, Training loss 2450, Eval loss 2448\n",
      "Batches 4701-4750 in 3.24 sec, Step size: 0.01525, Training loss 2449, Eval loss 2447\n",
      "Batches 4751-4800 in 3.28 sec, Step size: 0.01506, Training loss 2451, Eval loss 2447\n"
     ]
    },
    {
     "name": "stdout",
     "output_type": "stream",
     "text": [
      "Batches 4801-4850 in 3.46 sec, Step size: 0.01487, Training loss 2448, Eval loss 2450\n",
      "Batches 4851-4900 in 3.31 sec, Step size: 0.01469, Training loss 2449, Eval loss 2450\n",
      "Batches 4901-4950 in 3.29 sec, Step size: 0.01450, Training loss 2449, Eval loss 2448\n",
      "Batches 4951-5000 in 3.25 sec, Step size: 0.01432, Training loss 2449, Eval loss 2449\n",
      "Batches 5001-5050 in 3.25 sec, Step size: 0.01415, Training loss 2450, Eval loss 2450\n",
      "Batches 5051-5100 in 3.29 sec, Step size: 0.01397, Training loss 2451, Eval loss 2448\n",
      "Batches 5101-5150 in 3.25 sec, Step size: 0.01380, Training loss 2450, Eval loss 2450\n",
      "Batches 5151-5200 in 3.29 sec, Step size: 0.01362, Training loss 2451, Eval loss 2451\n",
      "Batches 5201-5250 in 3.31 sec, Step size: 0.01346, Training loss 2448, Eval loss 2449\n",
      "Batches 5251-5300 in 3.26 sec, Step size: 0.01329, Training loss 2448, Eval loss 2446\n",
      "Batches 5301-5350 in 3.31 sec, Step size: 0.01312, Training loss 2452, Eval loss 2450\n",
      "Batches 5351-5400 in 3.26 sec, Step size: 0.01296, Training loss 2450, Eval loss 2448\n",
      "Batches 5401-5450 in 3.30 sec, Step size: 0.01280, Training loss 2449, Eval loss 2449\n",
      "Batches 5451-5500 in 3.28 sec, Step size: 0.01264, Training loss 2451, Eval loss 2451\n",
      "Batches 5501-5550 in 3.34 sec, Step size: 0.01248, Training loss 2451, Eval loss 2450\n",
      "Batches 5551-5600 in 3.29 sec, Step size: 0.01233, Training loss 2449, Eval loss 2448\n",
      "Batches 5601-5650 in 3.33 sec, Step size: 0.01217, Training loss 2450, Eval loss 2450\n",
      "Batches 5651-5700 in 3.32 sec, Step size: 0.01202, Training loss 2449, Eval loss 2450\n",
      "Batches 5701-5750 in 3.29 sec, Step size: 0.01187, Training loss 2449, Eval loss 2449\n",
      "Batches 5751-5800 in 3.28 sec, Step size: 0.01173, Training loss 2451, Eval loss 2449\n",
      "Batches 5801-5850 in 3.31 sec, Step size: 0.01158, Training loss 2449, Eval loss 2446\n",
      "Batches 5851-5900 in 3.26 sec, Step size: 0.01144, Training loss 2450, Eval loss 2450\n",
      "Batches 5901-5950 in 3.24 sec, Step size: 0.01129, Training loss 2449, Eval loss 2449\n",
      "Batches 5951-6000 in 3.32 sec, Step size: 0.01115, Training loss 2449, Eval loss 2447\n",
      "Batches 6001-6050 in 3.33 sec, Step size: 0.01102, Training loss 2448, Eval loss 2447\n",
      "Batches 6051-6100 in 3.27 sec, Step size: 0.01088, Training loss 2448, Eval loss 2450\n",
      "Batches 6101-6150 in 3.34 sec, Step size: 0.01074, Training loss 2450, Eval loss 2448\n",
      "Batches 6151-6200 in 3.27 sec, Step size: 0.01061, Training loss 2448, Eval loss 2447\n",
      "Batches 6201-6250 in 3.34 sec, Step size: 0.01048, Training loss 2447, Eval loss 2449\n",
      "Batches 6251-6300 in 3.31 sec, Step size: 0.01035, Training loss 2451, Eval loss 2447\n",
      "Batches 6301-6350 in 3.33 sec, Step size: 0.01022, Training loss 2449, Eval loss 2448\n",
      "Batches 6351-6400 in 3.28 sec, Step size: 0.01009, Training loss 2450, Eval loss 2450\n",
      "Batches 6401-6450 in 3.32 sec, Step size: 0.00997, Training loss 2450, Eval loss 2448\n",
      "Batches 6451-6500 in 3.32 sec, Step size: 0.00984, Training loss 2447, Eval loss 2450\n",
      "Batches 6501-6550 in 3.29 sec, Step size: 0.00972, Training loss 2450, Eval loss 2449\n",
      "Batches 6551-6600 in 3.27 sec, Step size: 0.00960, Training loss 2450, Eval loss 2448\n",
      "Batches 6601-6650 in 3.34 sec, Step size: 0.00948, Training loss 2450, Eval loss 2446\n",
      "Batches 6651-6700 in 3.34 sec, Step size: 0.00936, Training loss 2447, Eval loss 2449\n",
      "Batches 6701-6750 in 3.29 sec, Step size: 0.00925, Training loss 2448, Eval loss 2448\n",
      "Batches 6751-6800 in 3.32 sec, Step size: 0.00913, Training loss 2450, Eval loss 2449\n",
      "Batches 6801-6850 in 3.20 sec, Step size: 0.00902, Training loss 2450, Eval loss 2449\n",
      "Batches 6851-6900 in 3.26 sec, Step size: 0.00891, Training loss 2447, Eval loss 2448\n",
      "Batches 6901-6950 in 3.29 sec, Step size: 0.00880, Training loss 2450, Eval loss 2450\n",
      "Batches 6951-7000 in 3.29 sec, Step size: 0.00869, Training loss 2448, Eval loss 2449\n",
      "Batches 7001-7050 in 3.29 sec, Step size: 0.00858, Training loss 2449, Eval loss 2446\n",
      "Batches 7051-7100 in 3.25 sec, Step size: 0.00847, Training loss 2449, Eval loss 2448\n",
      "Batches 7101-7150 in 3.31 sec, Step size: 0.00837, Training loss 2449, Eval loss 2449\n",
      "Batches 7151-7200 in 3.28 sec, Step size: 0.00826, Training loss 2449, Eval loss 2449\n",
      "Batches 7201-7250 in 3.25 sec, Step size: 0.00816, Training loss 2448, Eval loss 2448\n",
      "Batches 7251-7300 in 3.27 sec, Step size: 0.00806, Training loss 2447, Eval loss 2446\n",
      "Batches 7301-7350 in 3.34 sec, Step size: 0.00796, Training loss 2448, Eval loss 2450\n",
      "Batches 7351-7400 in 3.31 sec, Step size: 0.00786, Training loss 2450, Eval loss 2446\n",
      "Batches 7401-7450 in 3.32 sec, Step size: 0.00776, Training loss 2448, Eval loss 2448\n",
      "Batches 7451-7500 in 3.28 sec, Step size: 0.00767, Training loss 2449, Eval loss 2450\n",
      "Batches 7501-7550 in 3.28 sec, Step size: 0.00757, Training loss 2448, Eval loss 2446\n",
      "Batches 7551-7600 in 3.28 sec, Step size: 0.00748, Training loss 2449, Eval loss 2448\n",
      "Batches 7601-7650 in 3.33 sec, Step size: 0.00738, Training loss 2449, Eval loss 2449\n",
      "Batches 7651-7700 in 3.28 sec, Step size: 0.00729, Training loss 2449, Eval loss 2448\n",
      "Batches 7701-7750 in 3.32 sec, Step size: 0.00720, Training loss 2449, Eval loss 2449\n",
      "Batches 7751-7800 in 3.31 sec, Step size: 0.00711, Training loss 2448, Eval loss 2449\n",
      "Batches 7801-7850 in 3.32 sec, Step size: 0.00702, Training loss 2448, Eval loss 2447\n",
      "Batches 7851-7900 in 3.29 sec, Step size: 0.00694, Training loss 2447, Eval loss 2448\n",
      "Batches 7901-7950 in 3.34 sec, Step size: 0.00685, Training loss 2449, Eval loss 2447\n",
      "Batches 7951-8000 in 3.31 sec, Step size: 0.00677, Training loss 2450, Eval loss 2448\n"
     ]
    }
   ],
   "source": [
    "# Note that the first loop could take a few minutes to run, \n",
    "# because the LFADS model is unrolled, and therefor the JIT\n",
    "# (just in time) compilation is slow, and happens \"just in time\", \n",
    "# which is the first training loop iteration. On my computer, the \n",
    "# JIT compilation takes a few minutes.\n",
    "\n",
    "# You'll see the loss go up when the KL warmup starts turning on.\n",
    "\n",
    "# Note this will occasionally \"nan out\" when the KL comes on, \n",
    "# if you see nans, just restart with another random key. I am not\n",
    "# certain why this is happening, probably a large glitch in the gradient.\n",
    "key = random.PRNGKey(onp.random.randint(0, utils.MAX_SEED_INT))\n",
    "trained_params, opt_details = \\\n",
    "    optimize_lfads(key, init_params, lfads_hps, lfads_opt_hps,\n",
    "                   train_data, eval_data)"
   ]
  },
  {
   "cell_type": "code",
   "execution_count": 21,
   "metadata": {},
   "outputs": [
    {
     "data": {
      "image/png": "[encoded data removed]",
      "text/plain": [
       "<Figure size 1440x432 with 9 Axes>"
      ]
     },
     "metadata": {
      "needs_background": "light"
     },
     "output_type": "display_data"
    }
   ],
   "source": [
    "# Plot the training details\n",
    "x = onp.arange(0, num_batches, print_every)\n",
    "plt.figure(figsize=(20,6))\n",
    "plt.subplot(251)\n",
    "plt.plot(x, opt_details['tlosses']['total'], 'k')\n",
    "plt.ylabel('Training')\n",
    "plt.title('Total loss')\n",
    "plt.subplot(252)\n",
    "plt.plot(x, opt_details['tlosses']['nlog_p_xgz'], 'b')\n",
    "plt.title('Negative log p(z|x)')\n",
    "plt.subplot(253)\n",
    "plt.plot(x, opt_details['tlosses']['kl_ii'], 'r')\n",
    "plt.title('KL inferred inputs')\n",
    "plt.subplot(254)\n",
    "plt.plot(x, opt_details['tlosses']['kl_g0'], 'g')\n",
    "plt.title('KL initial state')\n",
    "plt.subplot(255)\n",
    "plt.plot(x, opt_details['tlosses']['l2'], 'c')\n",
    "plt.xlabel('Training batch')\n",
    "plt.title('L2 loss')\n",
    "plt.subplot(256)\n",
    "plt.plot(x, opt_details['elosses']['total'], 'k')\n",
    "plt.xlabel('Training batch')\n",
    "plt.ylabel('Evaluation')\n",
    "plt.subplot(257)\n",
    "plt.plot(x, opt_details['tlosses']['nlog_p_xgz'], 'b')\n",
    "plt.xlabel('Training batch')\n",
    "plt.subplot(258)\n",
    "plt.plot(x, opt_details['elosses']['kl_ii'], 'r')\n",
    "plt.xlabel('Training batch')\n",
    "plt.subplot(259)\n",
    "plt.plot(x, opt_details['elosses']['kl_g0'], 'g')\n",
    "plt.xlabel('Training batch');"
   ]
  },
  {
   "cell_type": "code",
   "execution_count": 22,
   "metadata": {},
   "outputs": [
    {
     "data": {
      "text/plain": [
       "[<matplotlib.lines.Line2D at 0x7fceb992da50>]"
      ]
     },
     "execution_count": 22,
     "metadata": {},
     "output_type": "execute_result"
    },
    {
     "data": {
      "image/png": "[encoded data removed]",
      "text/plain": [
       "<Figure size 432x288 with 1 Axes>"
      ]
     },
     "metadata": {
      "needs_background": "light"
     },
     "output_type": "display_data"
    }
   ],
   "source": [
    "plt.plot(opt_details['elosses']['kl_g0_prescale'])"
   ]
  },
  {
   "cell_type": "markdown",
   "metadata": {},
   "source": [
    "### Save the LFADS model parameters"
   ]
  },
  {
   "cell_type": "code",
   "execution_count": 23,
   "metadata": {},
   "outputs": [
    {
     "name": "stdout",
     "output_type": "stream",
     "text": [
      "Saving parameters:  /tmp/lfads/output/trained_params_lfads_integrator_2019-04-03_22:35:28.npz\n"
     ]
    }
   ],
   "source": [
    "fname_uniquifier = datetime.datetime.now().strftime(\"%Y-%m-%d_%H:%M:%S\")\n",
    "network_fname = ('trained_params_' + rnn_type + '_' + task_type + '_' + \\\n",
    "                 fname_uniquifier + '.npz')\n",
    "network_path = os.path.join(output_dir, network_fname)\n",
    "\n",
    "# Note we are just using numpy save instead of h5 because the LFADS parameter \n",
    "# is nested dictionaries, something I couldn't get h5 to save down easily.\n",
    "print(\"Saving parameters: \", network_path)\n",
    "onp.savez(network_path, trained_params)"
   ]
  },
  {
   "cell_type": "code",
   "execution_count": null,
   "metadata": {},
   "outputs": [],
   "source": [
    "params = onp.loadz('/tmp/lfads/output/trained_params_lfads_integrator_2019-04-03_22:35:28.npz')"
   ]
  },
  {
   "cell_type": "markdown",
   "metadata": {},
   "source": [
    "### LFADS Visualization\n",
    "To plot the results of LFADS, namely the inferred quantities such as the inferred inputs, factors, or rates, we have to do a sample-and-average operation.  Remember, the latent variables for LFADS are the initial state and the inferred inputs, and they are per-trial *stochastic* codes.  To get good inference, we sample a large number of times from these stochastic latent variables, run the generator forward, and then average all the quantities of interest over the samples. \n",
    "\n",
    "If LFADS were linear, it would be equivalent to do the *much more efficient decode* of the posterior means, that is, just take the average of the initial state and the average of the inferred input, and then run the decoder one time. (This, btw, is a great exercise to the tutorial reader, implement posterior-mean decoding in this tutorial.)\n",
    "\n",
    "Here we use batching and take the 'posterior average' using batch number of samples from the latent variable distributions."
   ]
  },
  {
   "cell_type": "code",
   "execution_count": null,
   "metadata": {},
   "outputs": [],
   "source": [
    "# Plot a bunch of examples of eval trials run through LFADS.\n",
    "reload(plotting)\n",
    "\n",
    "nexamples_to_save = 1\n",
    "for eidx in range(nexamples_to_save):\n",
    "    bidx = onp.random.randint(eval_data.shape[0])\n",
    "    psa_example = eval_data[bidx,:,:].astype(np.float32)\n",
    "    # Make an entire batch of a single, example, and then\n",
    "    # randomize the VAE with batchsize number of keys.\n",
    "    examples = onp.repeat(np.expand_dims(psa_example, axis=0),\n",
    "                          batch_size, axis=0)\n",
    "    skeys = random.split(key, batch_size)\n",
    "    lfads_dict = lfads.batch_lfads_jit(trained_params, lfads_hps, skeys,\n",
    "                                       examples, 1.0)\n",
    "    # posterior sample and average    \n",
    "    psa_example_dict = utils.average_lfads_batch(lfads_dict) \n",
    "\n",
    "    # The inferred input and true input are rescaled and shifted via \n",
    "    # linear regression to match, as there is an identifiability issue. there.\n",
    "    plotting.plot_lfads(psa_example, psa_example_dict,\n",
    "                        data_dict, eval_data_offset+bidx, renormed_fun)\n",
    "    \n",
    "    #plt.savefig(os.path.join(figure_dir, 'lfads_output_%d.png'%(bidx)))"
   ]
  },
  {
   "cell_type": "code",
   "execution_count": null,
   "metadata": {},
   "outputs": [],
   "source": [
    "hidx = 7\n",
    "# THese aren't matching, perhaps not training enough? A scale issue? DCS 4/1/2019\n",
    "plt.plot(renormed_fun(data_dict['hiddens'][10237,:,hidx]), 'b')\n",
    "plt.plot(onp.exp(psa_example_dict['lograte_t'][:,hidx])/1.5, 'r')"
   ]
  },
  {
   "cell_type": "code",
   "execution_count": 26,
   "metadata": {},
   "outputs": [],
   "source": [
    "from scipy import stats"
   ]
  },
  {
   "cell_type": "code",
   "execution_count": 27,
   "metadata": {},
   "outputs": [],
   "source": [
    "stats.linregress?"
   ]
  }
 ],
 "metadata": {
  "kernelspec": {
   "display_name": "Python 2",
   "language": "python",
   "name": "python2"
  },
  "language_info": {
   "codemirror_mode": {
    "name": "ipython",
    "version": 2
   },
   "file_extension": ".py",
   "mimetype": "text/x-python",
   "name": "python",
   "nbconvert_exporter": "python",
   "pygments_lexer": "ipython2",
   "version": "2.7.13"
  }
 },
 "nbformat": 4,
 "nbformat_minor": 2
}
